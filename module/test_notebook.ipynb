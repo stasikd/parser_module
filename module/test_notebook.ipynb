{
 "cells": [
  {
   "cell_type": "code",
   "execution_count": 1,
   "metadata": {
    "collapsed": true,
    "ExecuteTime": {
     "start_time": "2023-07-09T17:15:50.456374Z",
     "end_time": "2023-07-09T17:15:53.066189Z"
    }
   },
   "outputs": [],
   "source": [
    "from parser_preprocessing import parse_condition, parse_query, encode_dict\n",
    "from asdl.asdl import ASDLGrammar\n",
    "from asdl.lang.sql.sql_transition_system import SqlTransitionSystem, sql_query_to_asdl_ast, asdl_ast_to_sql_query\n",
    "from datasets.wikisql.lib.query import Query"
   ]
  },
  {
   "cell_type": "code",
   "execution_count": 11,
   "outputs": [],
   "source": [
    "test_query = 'SELecT   AVG dobro da from     table where col_name = dfopvm or col_name > 3 and col_3 = abc'"
   ],
   "metadata": {
    "collapsed": false,
    "ExecuteTime": {
     "start_time": "2023-07-09T17:16:37.169943Z",
     "end_time": "2023-07-09T17:16:37.190454Z"
    }
   }
  },
  {
   "cell_type": "code",
   "execution_count": 12,
   "outputs": [
    {
     "data": {
      "text/plain": "{'sel': 'dobro da',\n 'agg': 5,\n 'conds': [['col_name', 0, 'dfopvm'],\n  ['col_name', 1, '3'],\n  ['col_3', 0, 'abc']]}"
     },
     "execution_count": 12,
     "metadata": {},
     "output_type": "execute_result"
    }
   ],
   "source": [
    "parse_query(test_query)"
   ],
   "metadata": {
    "collapsed": false,
    "ExecuteTime": {
     "start_time": "2023-07-09T17:16:37.641097Z",
     "end_time": "2023-07-09T17:16:37.672305Z"
    }
   }
  },
  {
   "cell_type": "code",
   "execution_count": 13,
   "outputs": [
    {
     "data": {
      "text/plain": "{'sel': 0, 'agg': 5, 'conds': [[1, 0, 'dfopvm'], [1, 1, '3'], [2, 0, 'abc']]}"
     },
     "execution_count": 13,
     "metadata": {},
     "output_type": "execute_result"
    }
   ],
   "source": [
    "encode_dict(parse_query(test_query))"
   ],
   "metadata": {
    "collapsed": false,
    "ExecuteTime": {
     "start_time": "2023-07-09T17:16:38.152132Z",
     "end_time": "2023-07-09T17:16:38.183489Z"
    }
   }
  },
  {
   "cell_type": "code",
   "execution_count": 14,
   "outputs": [],
   "source": [
    "grammar = ASDLGrammar.from_text(open('asdl/lang/sql/sql_asdl.txt').read())\n",
    "transition_system = SqlTransitionSystem(grammar)"
   ],
   "metadata": {
    "collapsed": false,
    "ExecuteTime": {
     "start_time": "2023-07-09T17:16:39.810809Z",
     "end_time": "2023-07-09T17:16:39.830080Z"
    }
   }
  },
  {
   "cell_type": "code",
   "execution_count": 15,
   "outputs": [],
   "source": [
    "a = Query.from_dict(encode_dict(parse_query(test_query)))\n",
    "\n",
    "b = Query.from_dict({\n",
    "      \"conds\":[\n",
    "         [\n",
    "            0,\n",
    "            0,\n",
    "            \"1998\"\n",
    "         ]\n",
    "      ],\n",
    "      \"sel\":1,\n",
    "      \"agg\":0\n",
    "   })"
   ],
   "metadata": {
    "collapsed": false,
    "ExecuteTime": {
     "start_time": "2023-07-09T17:16:40.402529Z",
     "end_time": "2023-07-09T17:16:40.432900Z"
    }
   }
  },
  {
   "cell_type": "code",
   "execution_count": 18,
   "outputs": [],
   "source": [
    "asdl_ast = sql_query_to_asdl_ast(a, grammar)\n",
    "asdl_ast.sanity_check()\n",
    "actions = transition_system.get_actions(asdl_ast)"
   ],
   "metadata": {
    "collapsed": false,
    "ExecuteTime": {
     "start_time": "2023-07-09T17:16:49.192133Z",
     "end_time": "2023-07-09T17:16:49.215338Z"
    }
   }
  },
  {
   "cell_type": "code",
   "execution_count": 19,
   "outputs": [
    {
     "data": {
      "text/plain": "[ApplyRule[stmt -> Select(agg_op? agg, column_idx col_idx, cond_expr* conditions)],\n ApplyRule[agg_op -> Avg()],\n SelectColumnAction[id=0],\n ApplyRule[cond_expr -> Condition(cmp_op op, column_idx col_idx, string value)],\n ApplyRule[cmp_op -> Equal()],\n SelectColumnAction[id=1],\n GenToken[dfopvm],\n GenToken[</primitive>],\n ApplyRule[cond_expr -> Condition(cmp_op op, column_idx col_idx, string value)],\n ApplyRule[cmp_op -> GreaterThan()],\n SelectColumnAction[id=1],\n GenToken[3],\n GenToken[</primitive>],\n ApplyRule[cond_expr -> Condition(cmp_op op, column_idx col_idx, string value)],\n ApplyRule[cmp_op -> Equal()],\n SelectColumnAction[id=2],\n GenToken[abc],\n GenToken[</primitive>],\n Reduce]"
     },
     "execution_count": 19,
     "metadata": {},
     "output_type": "execute_result"
    }
   ],
   "source": [
    "actions"
   ],
   "metadata": {
    "collapsed": false,
    "ExecuteTime": {
     "start_time": "2023-07-09T17:16:49.669379Z",
     "end_time": "2023-07-09T17:16:49.700730Z"
    }
   }
  },
  {
   "cell_type": "code",
   "execution_count": null,
   "outputs": [],
   "source": [],
   "metadata": {
    "collapsed": false
   }
  }
 ],
 "metadata": {
  "kernelspec": {
   "display_name": "Python 3",
   "language": "python",
   "name": "python3"
  },
  "language_info": {
   "codemirror_mode": {
    "name": "ipython",
    "version": 2
   },
   "file_extension": ".py",
   "mimetype": "text/x-python",
   "name": "python",
   "nbconvert_exporter": "python",
   "pygments_lexer": "ipython2",
   "version": "2.7.6"
  }
 },
 "nbformat": 4,
 "nbformat_minor": 0
}
